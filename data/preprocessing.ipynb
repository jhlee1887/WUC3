{
 "cells": [
  {
   "cell_type": "code",
   "execution_count": 6,
   "metadata": {},
   "outputs": [
    {
     "name": "stdout",
     "output_type": "stream",
     "text": [
      "                       tm  rnum  stnId stnNm    ta  taQcflg  rn  rnQcflg   ws  \\\n",
      "0        1971-07-01 09:00     1    100   대관령  21.1      0.0 NaN      NaN  NaN   \n",
      "1        1971-07-02 09:00     2    100   대관령  23.0      0.0 NaN      NaN  NaN   \n",
      "2        1971-07-03 09:00     3    100   대관령  20.2      0.0 NaN      NaN  NaN   \n",
      "3        1971-07-04 09:00     4    100   대관령  22.2      0.0 NaN      NaN  NaN   \n",
      "4        1971-07-05 09:00     5    100   대관령  22.7      0.0 NaN      NaN  NaN   \n",
      "...                   ...   ...    ...   ...   ...      ...  ..      ...  ...   \n",
      "3902381  2023-02-11 10:00   995     99    파주  -0.9      NaN NaN      NaN  1.7   \n",
      "3902382  2023-02-11 11:00   996     99    파주   1.5      NaN NaN      NaN  1.7   \n",
      "3902383  2023-02-11 12:00   997     99    파주   3.0      NaN NaN      NaN  1.4   \n",
      "3902384  2023-02-11 13:00   998     99    파주   3.7      NaN NaN      NaN  1.1   \n",
      "3902385  2023-02-11 14:00   999     99    파주   4.4      NaN NaN      NaN  0.8   \n",
      "\n",
      "         wsQcflg  ...  lcsCh      vs  gndSttCd  dmstMtphNo   ts  tsQcflg  \\\n",
      "0            NaN  ...    NaN     NaN       NaN         NaN  NaN      9.0   \n",
      "1            NaN  ...    NaN     NaN       NaN         NaN  NaN      9.0   \n",
      "2            NaN  ...    NaN     NaN       NaN         NaN  NaN      9.0   \n",
      "3            NaN  ...    NaN     NaN       NaN         NaN  NaN      9.0   \n",
      "4            NaN  ...    NaN     NaN       NaN         NaN  NaN      9.0   \n",
      "...          ...  ...    ...     ...       ...         ...  ...      ...   \n",
      "3902381      NaN  ...    NaN   875.0       NaN         NaN -0.2      NaN   \n",
      "3902382      NaN  ...   70.0  1209.0       NaN         NaN  0.2      NaN   \n",
      "3902383      NaN  ...    NaN  1453.0       NaN         NaN  0.8      NaN   \n",
      "3902384      NaN  ...   60.0  1594.0       NaN         NaN  1.0      NaN   \n",
      "3902385      NaN  ...   56.0  1619.0       NaN         NaN  1.7      NaN   \n",
      "\n",
      "         m005Te  m01Te  m02Te  m03Te  \n",
      "0           NaN    NaN    NaN    NaN  \n",
      "1           NaN    NaN    NaN    NaN  \n",
      "2           NaN    NaN    NaN    NaN  \n",
      "3           NaN    NaN    NaN    NaN  \n",
      "4           NaN    NaN    NaN    NaN  \n",
      "...         ...    ...    ...    ...  \n",
      "3902381     NaN    NaN    NaN    NaN  \n",
      "3902382     NaN    NaN    NaN    NaN  \n",
      "3902383     NaN    NaN    NaN    NaN  \n",
      "3902384     NaN    NaN    NaN    NaN  \n",
      "3902385     NaN    NaN    NaN    NaN  \n",
      "\n",
      "[3902386 rows x 38 columns]\n"
     ]
    }
   ],
   "source": [
    "import pandas as pd\n",
    "import os\n",
    "import glob\n",
    "\n",
    "# 폴더 경로 지정\n",
    "folder_path = '../googledrive/data/meteorological/'\n",
    "\n",
    "# 이름에 규칙 있는 파일만 불러와서 합치기\n",
    "pattern = os.path.join(folder_path, f'station_*_*.csv')\n",
    "csv_files = glob.glob(pattern)\n",
    "\n",
    "\n",
    "if csv_files:\n",
    "    # 각 파일을 DataFrame으로 읽어서 리스트에 저장\n",
    "    dataframes = [pd.read_csv(file, encoding='utf-8') for file in csv_files]\n",
    "\n",
    "    # 모든 DataFrame을 하나로 합치기\n",
    "    combined_df = pd.concat(dataframes, ignore_index=True)\n",
    "    print(combined_df)\n",
    "\n",
    "    # 파일 저장 장소 지정. 이름도 지정\n",
    "    combined_df.to_csv('../googledrive/data/meteorological.csv', index=False, encoding='utf-8')\n",
    "else:\n",
    "    print(\"파일 위치나 코드 확인할 것.\")"
   ]
  }
 ],
 "metadata": {
  "kernelspec": {
   "display_name": "base",
   "language": "python",
   "name": "python3"
  },
  "language_info": {
   "codemirror_mode": {
    "name": "ipython",
    "version": 3
   },
   "file_extension": ".py",
   "mimetype": "text/x-python",
   "name": "python",
   "nbconvert_exporter": "python",
   "pygments_lexer": "ipython3",
   "version": "3.12.7"
  }
 },
 "nbformat": 4,
 "nbformat_minor": 2
}
