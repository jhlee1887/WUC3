{
 "cells": [
  {
   "cell_type": "code",
   "execution_count": 4,
   "metadata": {},
   "outputs": [
    {
     "ename": "UnidentifiedImageError",
     "evalue": "cannot identify image file <_io.BytesIO object at 0x0000012D199F0D60>",
     "output_type": "error",
     "traceback": [
      "\u001b[1;31m---------------------------------------------------------------------------\u001b[0m",
      "\u001b[1;31mUnidentifiedImageError\u001b[0m                    Traceback (most recent call last)",
      "Cell \u001b[1;32mIn[4], line 23\u001b[0m\n\u001b[0;32m     20\u001b[0m response \u001b[38;5;241m=\u001b[39m requests\u001b[38;5;241m.\u001b[39mget(wms_url, params\u001b[38;5;241m=\u001b[39mparams)\n\u001b[0;32m     22\u001b[0m \u001b[38;5;28;01mif\u001b[39;00m response\u001b[38;5;241m.\u001b[39mstatus_code \u001b[38;5;241m==\u001b[39m \u001b[38;5;241m200\u001b[39m:\n\u001b[1;32m---> 23\u001b[0m     image \u001b[38;5;241m=\u001b[39m Image\u001b[38;5;241m.\u001b[39mopen(BytesIO(response\u001b[38;5;241m.\u001b[39mcontent))\n\u001b[0;32m     24\u001b[0m     image\u001b[38;5;241m.\u001b[39msave(\u001b[38;5;124m\"\u001b[39m\u001b[38;5;124mwms_map.png\u001b[39m\u001b[38;5;124m\"\u001b[39m)\n\u001b[0;32m     25\u001b[0m     \u001b[38;5;28mprint\u001b[39m(\u001b[38;5;124m\"\u001b[39m\u001b[38;5;124mWMS 이미지가 \u001b[39m\u001b[38;5;124m'\u001b[39m\u001b[38;5;124mwms_map.png\u001b[39m\u001b[38;5;124m'\u001b[39m\u001b[38;5;124m에 저장되었습니다.\u001b[39m\u001b[38;5;124m\"\u001b[39m)\n",
      "File \u001b[1;32mc:\\anaconda3\\Lib\\site-packages\\PIL\\Image.py:3498\u001b[0m, in \u001b[0;36mopen\u001b[1;34m(fp, mode, formats)\u001b[0m\n\u001b[0;32m   3496\u001b[0m     warnings\u001b[38;5;241m.\u001b[39mwarn(message)\n\u001b[0;32m   3497\u001b[0m msg \u001b[38;5;241m=\u001b[39m \u001b[38;5;124m\"\u001b[39m\u001b[38;5;124mcannot identify image file \u001b[39m\u001b[38;5;132;01m%r\u001b[39;00m\u001b[38;5;124m\"\u001b[39m \u001b[38;5;241m%\u001b[39m (filename \u001b[38;5;28;01mif\u001b[39;00m filename \u001b[38;5;28;01melse\u001b[39;00m fp)\n\u001b[1;32m-> 3498\u001b[0m \u001b[38;5;28;01mraise\u001b[39;00m UnidentifiedImageError(msg)\n",
      "\u001b[1;31mUnidentifiedImageError\u001b[0m: cannot identify image file <_io.BytesIO object at 0x0000012D199F0D60>"
     ]
    }
   ],
   "source": [
    "import requests\n",
    "from PIL import Image\n",
    "from io import BytesIO\n",
    "\n",
    "wms_url = \"https://ecvam.neins.go.kr/apiConfirm.do\"\n",
    "params = {\n",
    "    \"APIKEY\": \"ALNX-4JPS-ECDJ-STVA\",  \n",
    "    \"service\": \"WMS\",\n",
    "    \"version\": \"1.1.1\",\n",
    "    \"request\": \"GetMap\",\n",
    "    \"layers\": \"nem_ecvam\", \n",
    "    \"styles\": \"\",\n",
    "    \"bbox\": \"126,33,128,38\",  \n",
    "    \"width\": 256,\n",
    "    \"height\": 256,\n",
    "    \"srs\": \"EPSG:4326\",\n",
    "    \"format\": \"image/png\"\n",
    "}\n",
    "\n",
    "response = requests.get(wms_url, params=params)\n",
    "\n",
    "if response.status_code == 200:\n",
    "    image = Image.open(BytesIO(response.content))\n",
    "    image.save(\"wms_map.png\")\n",
    "    print(\"WMS 이미지가 'wms_map.png'에 저장되었습니다.\")\n",
    "else:\n",
    "    print(f\"WMS 요청 실패: {response.status_code}, {response.text}\")\n",
    "\n"
   ]
  },
  {
   "cell_type": "code",
   "execution_count": 3,
   "metadata": {},
   "outputs": [
    {
     "name": "stdout",
     "output_type": "stream",
     "text": [
      "{'Server': 'nginx', 'Date': 'Tue, 24 Dec 2024 08:44:32 GMT', 'Content-Type': 'text/html;charset=UTF-8', 'Content-Length': '6292', 'Connection': 'keep-alive', 'Vary': 'Accept-Encoding', 'Set-Cookie': 'JSESSIONID=2B6EFC1607EF4929CD48F1A0C5F005B7; Path=/; HttpOnly', 'Content-Language': 'en-US'}\n",
      "b'\\r\\n\\tconsole.log(\"true\");\\r\\n\\tvar _userDomain = \"\";\\r\\n\\tvar _userApiKey = \"ALNX-4JPS-ECDJ-STVA\";\\r\\n\\tvar check =\"\";\\r\\n\\tvar apiLayerWMSList = [{\"layerNmKor\":\"\\xed\\x99\\x98\\xea\\xb2\\xbd\\xc2\\xb7\\xec\\x83\\x9d\\xed\\x83\\x9c\\xec\\xa0\\x81 \\xed\\x8f\\x89\\xea\\xb0\\x80\\xea\\xb2\\xb0\\xea\\xb3\\xbc\",\"layerNmEng\":\"nem_eco\"},{\"layerNmKor\":\"01_\\xeb\\x8b\\xa4\\xec\\x96\\x91\\xec\\x84\\xb1\",\"layerNmEng\":\"nem_eco_01\"},{\"layerNmKor\":\"02_\\xec\\x9e\\x90\\xec\\x97\\xb0\\xec\\x84\\xb1\",\"layerNmEng\":\"nem_eco_02\"},{\"layerNmKor\":\"03_\\xed\\x92\\x8d\\xeb\\xb6\\x80\\xeb\\x8f\\x84\",\"layerNmEng\":\"nem_eco_03\"},{\"layerNmKor\":\"04_\\xed\\x9d\\xac\\xea\\xb7\\x80\\xec\\x84\\xb1\",\"layerNmEng\":\"nem_eco_04\"},{\"layerNmKor\":\"05_\\xed\\x97\\x88\\xec\\x95\\xbd\\xec\\x84\\xb1\",\"layerNmEng\":\"nem_eco_05\"},{\"layerNmKor\":\"0'\n"
     ]
    }
   ],
   "source": [
    "print(response.headers)\n",
    "print(response.content[:500])  \n"
   ]
  },
  {
   "cell_type": "code",
   "execution_count": null,
   "metadata": {},
   "outputs": [
    {
     "name": "stdout",
     "output_type": "stream",
     "text": [
      "\n",
      "\tconsole.log(\"true\");\n",
      "\tvar _userDomain = \"\";\n",
      "\tvar _userApiKey = \"ALNX-4JPS-ECDJ-STVA\";\n",
      "\tvar check =\"\";\n",
      "\tvar apiLayerWMSList = [{\"layerNmKor\":\"환경·생태적 평가결과\",\"layerNmEng\":\"nem_eco\"},{\"layerNmKor\":\"01_다양성\",\"layerNmEng\":\"nem_eco_01\"},{\"layerNmKor\":\"02_자연성\",\"layerNmEng\":\"nem_eco_02\"},{\"layerNmKor\":\"03_풍부도\",\"layerNmEng\":\"nem_eco_03\"},{\"layerNmKor\":\"04_희귀성\",\"layerNmEng\":\"nem_eco_04\"},{\"layerNmKor\":\"05_허약성\",\"layerNmEng\":\"nem_eco_05\"},{\"layerNmKor\":\"07_군집구조의안정성\",\"layerNmEng\":\"nem_eco_07\"},{\"layerNmKor\":\"08_연계성\",\"layerNmEng\":\"nem_eco_08\"},{\"layerNmKor\":\"국토환경성평가지도\",\"layerNmEng\":\"nem_ecvam\"},{\"layerNmKor\":\"법제적 평가결과\",\"layerNmEng\":\"nem_law\"},{\"layerNmKor\":\"01_생태·경관보전지역\",\"layerNmEng\":\"nem_law_01\"},{\"layerNmKor\":\"02_시도생태·경관보전지역\",\"layerNmEng\":\"nem_law_02\"},{\"layerNmKor\":\"03_자연유보지역\",\"layerNmEng\":\"nem_law_03\"},{\"layerNmKor\":\"04_습지보호지역\",\"layerNmEng\":\"nem_law_04\"},{\"layerNmKor\":\"05_시도습지보호지역\",\"layerNmEng\":\"nem_law_05\"},{\"layerNmKor\":\"06_습지주변관리지역\",\"layerNmEng\":\"nem_law_06\"},{\"layerNmKor\":\"07_습지개선지역\",\"layerNmEng\":\"nem_law_07\"},{\"layerNmKor\":\"08_야생생물(특별)보호구역\",\"layerNmEng\":\"nem_law_08\"},{\"layerNmKor\":\"09_특정도서\",\"layerNmEng\":\"nem_law_09\"},{\"layerNmKor\":\"10_공원자연보존지구\",\"layerNmEng\":\"nem_law_10\"},{\"layerNmKor\":\"11_공원자연환경지구\",\"layerNmEng\":\"nem_law_11\"},{\"layerNmKor\":\"12_공원마을지구\",\"layerNmEng\":\"nem_law_12\"},{\"layerNmKor\":\"13_공원문화유산지구\",\"layerNmEng\":\"nem_law_13\"},{\"layerNmKor\":\"14_공원보호구역\",\"layerNmEng\":\"nem_law_14\"},{\"layerNmKor\":\"15_백두대간보호구역\",\"layerNmEng\":\"nem_law_15\"},{\"layerNmKor\":\"16_수변구역\",\"layerNmEng\":\"nem_law_16\"},{\"layerNmKor\":\"17_하천구역\",\"layerNmEng\":\"nem_law_17\"},{\"layerNmKor\":\"18_홍수관리구역\",\"layerNmEng\":\"nem_law_18\"},{\"layerNmKor\":\"19_소하천구역\",\"layerNmEng\":\"nem_law_19\"},{\"layerNmKor\":\"20_상수원호소\",\"layerNmEng\":\"nem_law_20\"},{\"layerNmKor\":\"21_지하수보전구역\",\"layerNmEng\":\"nem_law_21\"},{\"layerNmKor\":\"22_상수원보호구역\",\"layerNmEng\":\"nem_law_22\"},{\"layerNmKor\":\"23_상수원상류 공장설립제한/승인지역\",\"layerNmEng\":\"nem_law_23\"},{\"layerNmKor\":\"24_폐수배출시설 설치제한지역\",\"layerNmEng\":\"nem_law_24\"},{\"layerNmKor\":\"25_폐기물매립시설 설치제한지역\",\"layerNmEng\":\"nem_law_25\"},{\"layerNmKor\":\"26_배출시설설치 제한지역\",\"layerNmEng\":\"nem_law_26\"},{\"layerNmKor\":\"27_오염행위제한지역\",\"layerNmEng\":\"nem_law_27\"},{\"layerNmKor\":\"28_자연환경보전지역\",\"layerNmEng\":\"nem_law_28\"},{\"layerNmKor\":\"29_녹지지역(보존녹지)\",\"layerNmEng\":\"nem_law_29\"},{\"layerNmKor\":\"30_녹지지역(생산녹지)\",\"layerNmEng\":\"nem_law_30\"},{\"layerNmKor\":\"31_녹지지역(자연녹지)\",\"layerNmEng\":\"nem_law_31\"},{\"layerNmKor\":\"32_경관지구\",\"layerNmEng\":\"nem_law_32\"},{\"layerNmKor\":\"33_보호지구(생태계보호지구)\",\"layerNmEng\":\"nem_law_33\"},{\"layerNmKor\":\"34_보호지구(역사문화환경보호지구)\",\"layerNmEng\":\"nem_law_34\"},{\"layerNmKor\":\"35_개발제한구역\",\"layerNmEng\":\"nem_law_35\"},{\"layerNmKor\":\"36_생활권공원(어린이/근린/소공원)\",\"layerNmEng\":\"nem_law_36\"},{\"layerNmKor\":\"37_도시자연공원구역\",\"layerNmEng\":\"nem_law_37\"},{\"layerNmKor\":\"38_주제공원(묘지/체육/역사/문화/수변)\",\"layerNmEng\":\"nem_law_38\"},{\"layerNmKor\":\"39_완충녹지\",\"layerNmEng\":\"nem_law_39\"},{\"layerNmKor\":\"40_경관녹지/연결녹지\",\"layerNmEng\":\"nem_law_40\"},{\"layerNmKor\":\"41_보전산지(임업용산지)\",\"layerNmEng\":\"nem_law_41\"},{\"layerNmKor\":\"42_보전산지(공익용산지)\",\"layerNmEng\":\"nem_law_42\"},{\"layerNmKor\":\"43_경관보호구역\",\"layerNmEng\":\"nem_law_43\"},{\"layerNmKor\":\"44_수원함양보호구역1~3종\",\"layerNmEng\":\"nem_law_44\"},{\"layerNmKor\":\"45_재해방지보호구역\",\"layerNmEng\":\"nem_law_45\"},{\"layerNmKor\":\"46_산림유전자원보호구역\",\"layerNmEng\":\"nem_law_46\"},{\"layerNmKor\":\"47_토석채취제한지역\",\"layerNmEng\":\"nem_law_47\"},{\"layerNmKor\":\"48_농업진흥지역(농업진흥구역)\",\"layerNmEng\":\"nem_law_48\"},{\"layerNmKor\":\"49_농업진흥지역(농업보호구역)\",\"layerNmEng\":\"nem_law_49\"},{\"layerNmKor\":\"50_환경보전해역\",\"layerNmEng\":\"nem_law_50\"},{\"layerNmKor\":\"51_특별관리해역\",\"layerNmEng\":\"nem_law_51\"},{\"layerNmKor\":\"52_절대보전지역\",\"layerNmEng\":\"nem_law_52\"},{\"layerNmKor\":\"53_상대보전지역\",\"layerNmEng\":\"nem_law_53\"},{\"layerNmKor\":\"54_관리보전지역(지하수자원보전)\",\"layerNmEng\":\"nem_law_54\"},{\"layerNmKor\":\"55_관리보전지역(생태계보전)\",\"layerNmEng\":\"nem_law_55\"},{\"layerNmKor\":\"56_관리보전지역(경관보전)\",\"layerNmEng\":\"nem_law_56\"},{\"layerNmKor\":\"57_천연보호구역\",\"layerNmEng\":\"nem_law_57\"},{\"layerNmKor\":\"58_천연기념물지정지역\",\"layerNmEng\":\"nem_law_58\"},{\"layerNmKor\":\"59_절대보전무인도서\",\"layerNmEng\":\"nem_law_59\"},{\"layerNmKor\":\"60_준보전무인도서\",\"layerNmEng\":\"nem_law_60\"},{\"layerNmKor\":\"61_이용가능무인도서\",\"layerNmEng\":\"nem_law_61\"},{\"layerNmKor\":\"62_가축사육 제한구역\",\"layerNmEng\":\"nem_law_62\"}];\n",
      "\n",
      "\t\n",
      "\tfunction ecvamLayerCreate(layerId, visible){ \n",
      "\t\tvar layer = new ol.layer.Tile({\n",
      "\t\t\tid : layerId,\n",
      "\t\t\tvisible : visible,\n",
      "\t\t\tsource: new ol.source.TileWMS({\n",
      "\t\t\t\turl: 'https://ecvam.neins.go.kr' + '/apicall.do',\n",
      "\t\t\t\tparams : { 'LAYERS' : layerId, 'VERSION' : '1.1.0'}\n",
      "\t\t\t}),\n",
      "\t\t\tzIndex : 1\n",
      "\t\t});\n",
      "\t\t\n",
      "\t\tvar params = { \n",
      "\t\t\tAPIKEY : _userApiKey, \n",
      "\t\t\tDOMAIN : _userDomain, \n",
      "\t\t\tLAYERS : layerId \n",
      "\t\t}; \n",
      "\t\t\n",
      "\t\tfnc_ajax(\"https://ecvam.neins.go.kr\" + \"/common/insertApiCallLog.ajax\", params, \"jsonp\", log_success, error ); \n",
      "\t\t\n",
      "\t\treturn layer;\n",
      "\t\n",
      "\t} \n",
      "\n",
      "\tfunction log_success(result){\n",
      "\t\tcheck = result.check;\n",
      "\t}\n",
      "\n",
      "\tfunction fnc_ajax(url, param, type, callback, error){\n",
      "\t\t$.ajax({\n",
      "\t\t\turl : url,\n",
      "\t\t\tdataType : type,\n",
      "\t\t\tjsonp : \"callback\",\n",
      "\t\t\tdata : param,\n",
      "\t\t    success:function( result, textStatus, jqXHR )\n",
      "        \t{\n",
      "            \tcheck = result.check;\n",
      "        \t},\n",
      "\t\t    error:error\n",
      "\t\t});\n",
      "\t}\n",
      "\n",
      "\tfunction error(request,status,error){\n",
      "\t\talert(\"code:\"+request.status+\"\\n\"+\"message:\"+request.responseText+\"\\n\"+\"error:\"+error);\n",
      "\t}\n",
      "\t\n",
      "\n",
      "\n",
      "\n"
     ]
    }
   ],
   "source": [
    "capabilities_url = \"https://ecvam.neins.go.kr/apiConfirm.do\"\n",
    "params = {\n",
    "    \"APIKEY\" : \"ALNX-4JPS-ECDJ-STVA\",\n",
    "    \"service\": \"WMS\",\n",
    "    \"version\": \"1.1.1\",\n",
    "    \"request\": \"GetCapabilities\"\n",
    "}\n",
    "\n",
    "response = requests.get(capabilities_url, params=params)\n",
    "print(response.text) "
   ]
  }
 ],
 "metadata": {
  "kernelspec": {
   "display_name": "base",
   "language": "python",
   "name": "python3"
  },
  "language_info": {
   "codemirror_mode": {
    "name": "ipython",
    "version": 3
   },
   "file_extension": ".py",
   "mimetype": "text/x-python",
   "name": "python",
   "nbconvert_exporter": "python",
   "pygments_lexer": "ipython3",
   "version": "3.12.3"
  }
 },
 "nbformat": 4,
 "nbformat_minor": 2
}
