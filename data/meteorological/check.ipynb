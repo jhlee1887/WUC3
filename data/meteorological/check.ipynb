{
 "cells": [
  {
   "cell_type": "code",
   "execution_count": 1,
   "metadata": {},
   "outputs": [
    {
     "name": "stdout",
     "output_type": "stream",
     "text": [
      "Save directory: c:\\WUC3\\googledrive\\data\\meteorological\n"
     ]
    }
   ],
   "source": [
    "import os\n",
    "\n",
    "save_dir = os.path.join(\"..\", \"..\", \"googledrive\", \"data\", \"meteorological\")\n",
    "os.makedirs(save_dir, exist_ok=True)\n",
    "print(f\"Save directory: {os.path.abspath(save_dir)}\")\n"
   ]
  },
  {
   "cell_type": "code",
   "execution_count": 5,
   "metadata": {},
   "outputs": [
    {
     "name": "stdout",
     "output_type": "stream",
     "text": [
      "{'Access-Control-Allow-Origin': '*', 'Content-Type': 'text/xml;charset=UTF-8', 'Content-Length': '242', 'Date': 'Tue, 24 Dec 2024 05:35:59 GMT', 'Server': 'NIA API Server'}\n",
      "None\n",
      "None\n"
     ]
    }
   ],
   "source": [
    "response = requests.get(url, params=params)\n",
    "\n",
    "# 요청 한도 관련 헤더 출력\n",
    "print(response.headers)\n",
    "\n",
    "# 특정 헤더 값 확인\n",
    "print(response.headers.get('X-RateLimit-Limit'))  \n",
    "print(response.headers.get('X-RateLimit-Remaining'))  \n"
   ]
  },
  {
   "cell_type": "code",
   "execution_count": null,
   "metadata": {},
   "outputs": [],
   "source": [
    "import requests\n",
    "import pandas as pd\n",
    "import os\n",
    "from datetime import datetime\n",
    "\n",
    "url = 'http://apis.data.go.kr/1360000/AsosHourlyInfoService/getWthrDataList'\n",
    "service_key = 'ZSG78Pt3T/LihB09c5HOKiwiw7Fp0YO6Zyv3IXdsG6xlAHwXn0Ujh4AI7Qusf257iRAZCZxtR6elbu64sLb2JA=='\n",
    "\n",
    "station = pd.read_csv('./station_num.csv', header=None)\n",
    "station_ids = station[0].tolist()\n",
    "\n",
    "start_year = 1970\n",
    "end_year = 2024\n",
    "\n",
    "for year in range(start_year, end_year + 1):\n",
    "    print(f\"Processing year: {year}\")\n",
    "    year_start_date = datetime(year, 1, 1)\n",
    "    year_end_date = datetime(year, 12, 31) if year != end_year else datetime(end_year, 12, 1)\n",
    "\n",
    "    for stn_id in station_ids:\n",
    "        print(f\"Processing station ID: {stn_id}\")\n",
    "\n",
    "        start_dt = year_start_date.strftime('%Y%m%d')\n",
    "        end_dt = year_end_date.strftime('%Y%m%d')\n",
    "\n",
    "        params = {\n",
    "            'serviceKey': service_key,\n",
    "            'pageNo': '1',\n",
    "            'numOfRows': '999',\n",
    "            'dataType': 'JSON',\n",
    "            'dataCd': 'ASOS',\n",
    "            'dateCd': 'HR',\n",
    "            'startDt': start_dt,\n",
    "            'startHh': '00',\n",
    "            'endDt': end_dt,\n",
    "            'endHh': '23',\n",
    "            'stnIds': stn_id\n",
    "        }\n",
    "\n",
    "        year_data = []  \n",
    "        while True:\n",
    "            response = requests.get(url, params=params)\n",
    "\n",
    "            if response.status_code == 200:\n",
    "                if response.headers.get('Content-Type') == 'application/json':\n",
    "                    try:\n",
    "                        data = response.json()\n",
    "\n",
    "                        if 'response' in data and 'header' in data['response']:\n",
    "                            result_code = data['response']['header'].get('resultCode', '')\n",
    "                            result_msg = data['response']['header'].get('resultMsg', '')\n",
    "\n",
    "                            if result_code == '00':  \n",
    "                                body = data['response'].get('body', {})\n",
    "                                items = body.get('items', {}).get('item', [])\n",
    "                                year_data.extend(items)\n",
    "\n",
    "                                total_count = int(body.get('totalCount', 0))\n",
    "                                current_page = int(params['pageNo'])\n",
    "                                if current_page * int(params['numOfRows']) >= total_count:\n",
    "                                    break\n",
    "                                else:\n",
    "                                    params['pageNo'] = str(current_page + 1)\n",
    "                            elif result_code == '03': \n",
    "                                print(f\"No data for station {stn_id} from {start_dt} to {end_dt}.\")\n",
    "                                break\n",
    "                            else:  \n",
    "                                print(f\"API Error: {result_code}, Message: {result_msg}\")\n",
    "                                break\n",
    "                        else:\n",
    "                            print(\"Invalid API response format.\")\n",
    "                            break\n",
    "                    except ValueError:\n",
    "                        print(\"Response is not valid JSON. Content:\", response.text)\n",
    "                        break\n",
    "                else:\n",
    "                    print(\"Invalid content type received.\")\n",
    "                    break\n",
    "            else:\n",
    "                print(f\"HTTP Error {response.status_code}: {response.text}\")\n",
    "                break\n",
    "\n",
    "        save_dir = os.path.join(\"..\", \"..\", \"googledrive\", \"data\", \"meteorological\")\n",
    "        os.makedirs(save_dir, exist_ok=True)\n",
    "\n",
    "        # 연도별 저장\n",
    "        if year_data:\n",
    "            df = pd.DataFrame(year_data)\n",
    "\n",
    "            df = df[['tm', 'stnId', 'stnNm', 'ta', 'ws', 'wd', 'rh', 'pa', 'rn']]\n",
    "\n",
    "            file_name_csv = os.path.join(save_dir, f'station_{stn_id}_{year}.csv')\n",
    "            file_name_json = os.path.join(save_dir, f'station_{stn_id}_{year}.json')\n",
    "\n",
    "            df.to_csv(file_name_csv, index=False, encoding='utf-8-sig')\n",
    "            df.to_json(file_name_json, orient='records', lines=True, force_ascii=False)\n",
    "\n",
    "            print(f\"Data for {year} (station {stn_id}) saved to {file_name_csv} and {file_name_json}.\")\n",
    "        else:\n",
    "            print(f\"No data collected for station {stn_id} in year {year}.\")\n"
   ]
  },
  {
   "cell_type": "code",
   "execution_count": 6,
   "metadata": {},
   "outputs": [
    {
     "name": "stdout",
     "output_type": "stream",
     "text": [
      "Estimated total API requests: 5225\n"
     ]
    }
   ],
   "source": [
    "import pandas as pd\n",
    "\n",
    "station = pd.read_csv('./station_num.csv', header=None)\n",
    "station_ids = station[0].tolist()\n",
    "\n",
    "\n",
    "start_year = 1970\n",
    "end_year = 2024\n",
    "\n",
    "stations = len(station_ids)\n",
    "days_per_year = 365  # 1년 기준 일수\n",
    "requests_per_year = stations * days_per_year / 365  # 30일 단위 호출 수\n",
    "total_requests = (end_year - start_year + 1) * requests_per_year\n",
    "\n",
    "print(f\"Estimated total API requests: {total_requests:.0f}\")\n"
   ]
  },
  {
   "cell_type": "code",
   "execution_count": null,
   "metadata": {},
   "outputs": [],
   "source": []
  },
  {
   "cell_type": "code",
   "execution_count": null,
   "metadata": {},
   "outputs": [],
   "source": []
  }
 ],
 "metadata": {
  "kernelspec": {
   "display_name": "base",
   "language": "python",
   "name": "python3"
  },
  "language_info": {
   "codemirror_mode": {
    "name": "ipython",
    "version": 3
   },
   "file_extension": ".py",
   "mimetype": "text/x-python",
   "name": "python",
   "nbconvert_exporter": "python",
   "pygments_lexer": "ipython3",
   "version": "3.12.7"
  }
 },
 "nbformat": 4,
 "nbformat_minor": 2
}
