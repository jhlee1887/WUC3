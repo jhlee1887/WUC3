{
 "cells": [
  {
   "cell_type": "code",
   "execution_count": 12,
   "metadata": {},
   "outputs": [
    {
     "name": "stderr",
     "output_type": "stream",
     "text": [
      "C:\\Users\\zhdwj\\AppData\\Local\\Temp\\ipykernel_12472\\2257190013.py:5: DtypeWarning: Columns (27) have mixed types. Specify dtype option on import or set low_memory=False.\n",
      "  meteorological_df = pd.read_csv('../../googledrive/data/meteorological.csv')\n"
     ]
    },
    {
     "data": {
      "text/html": [
       "<div>\n",
       "<style scoped>\n",
       "    .dataframe tbody tr th:only-of-type {\n",
       "        vertical-align: middle;\n",
       "    }\n",
       "\n",
       "    .dataframe tbody tr th {\n",
       "        vertical-align: top;\n",
       "    }\n",
       "\n",
       "    .dataframe thead th {\n",
       "        text-align: right;\n",
       "    }\n",
       "</style>\n",
       "<table border=\"1\" class=\"dataframe\">\n",
       "  <thead>\n",
       "    <tr style=\"text-align: right;\">\n",
       "      <th></th>\n",
       "      <th>tm</th>\n",
       "      <th>stnId</th>\n",
       "      <th>stnNm</th>\n",
       "      <th>ta</th>\n",
       "      <th>rn</th>\n",
       "      <th>ws</th>\n",
       "      <th>wd</th>\n",
       "      <th>hm</th>\n",
       "      <th>pa</th>\n",
       "      <th>latitude</th>\n",
       "      <th>longitude</th>\n",
       "    </tr>\n",
       "  </thead>\n",
       "  <tbody>\n",
       "    <tr>\n",
       "      <th>0</th>\n",
       "      <td>1971-07-01 09:00</td>\n",
       "      <td>100</td>\n",
       "      <td>대관령</td>\n",
       "      <td>21.1</td>\n",
       "      <td>NaN</td>\n",
       "      <td>NaN</td>\n",
       "      <td>NaN</td>\n",
       "      <td>78.0</td>\n",
       "      <td>NaN</td>\n",
       "      <td>37.67713</td>\n",
       "      <td>128.71834</td>\n",
       "    </tr>\n",
       "    <tr>\n",
       "      <th>1</th>\n",
       "      <td>1971-07-02 09:00</td>\n",
       "      <td>100</td>\n",
       "      <td>대관령</td>\n",
       "      <td>23.0</td>\n",
       "      <td>NaN</td>\n",
       "      <td>NaN</td>\n",
       "      <td>NaN</td>\n",
       "      <td>98.0</td>\n",
       "      <td>NaN</td>\n",
       "      <td>37.67713</td>\n",
       "      <td>128.71834</td>\n",
       "    </tr>\n",
       "    <tr>\n",
       "      <th>2</th>\n",
       "      <td>1971-07-03 09:00</td>\n",
       "      <td>100</td>\n",
       "      <td>대관령</td>\n",
       "      <td>20.2</td>\n",
       "      <td>NaN</td>\n",
       "      <td>NaN</td>\n",
       "      <td>NaN</td>\n",
       "      <td>100.0</td>\n",
       "      <td>NaN</td>\n",
       "      <td>37.67713</td>\n",
       "      <td>128.71834</td>\n",
       "    </tr>\n",
       "    <tr>\n",
       "      <th>3</th>\n",
       "      <td>1971-07-04 09:00</td>\n",
       "      <td>100</td>\n",
       "      <td>대관령</td>\n",
       "      <td>22.2</td>\n",
       "      <td>NaN</td>\n",
       "      <td>NaN</td>\n",
       "      <td>NaN</td>\n",
       "      <td>84.0</td>\n",
       "      <td>NaN</td>\n",
       "      <td>37.67713</td>\n",
       "      <td>128.71834</td>\n",
       "    </tr>\n",
       "    <tr>\n",
       "      <th>4</th>\n",
       "      <td>1971-07-05 09:00</td>\n",
       "      <td>100</td>\n",
       "      <td>대관령</td>\n",
       "      <td>22.7</td>\n",
       "      <td>NaN</td>\n",
       "      <td>NaN</td>\n",
       "      <td>NaN</td>\n",
       "      <td>79.0</td>\n",
       "      <td>NaN</td>\n",
       "      <td>37.67713</td>\n",
       "      <td>128.71834</td>\n",
       "    </tr>\n",
       "  </tbody>\n",
       "</table>\n",
       "</div>"
      ],
      "text/plain": [
       "                 tm  stnId stnNm    ta  rn  ws  wd     hm  pa  latitude  \\\n",
       "0  1971-07-01 09:00    100   대관령  21.1 NaN NaN NaN   78.0 NaN  37.67713   \n",
       "1  1971-07-02 09:00    100   대관령  23.0 NaN NaN NaN   98.0 NaN  37.67713   \n",
       "2  1971-07-03 09:00    100   대관령  20.2 NaN NaN NaN  100.0 NaN  37.67713   \n",
       "3  1971-07-04 09:00    100   대관령  22.2 NaN NaN NaN   84.0 NaN  37.67713   \n",
       "4  1971-07-05 09:00    100   대관령  22.7 NaN NaN NaN   79.0 NaN  37.67713   \n",
       "\n",
       "   longitude  \n",
       "0  128.71834  \n",
       "1  128.71834  \n",
       "2  128.71834  \n",
       "3  128.71834  \n",
       "4  128.71834  "
      ]
     },
     "execution_count": 12,
     "metadata": {},
     "output_type": "execute_result"
    }
   ],
   "source": [
    "import pandas as pd\n",
    "import numpy as np\n",
    "\n",
    "\n",
    "meteorological_df = pd.read_csv('../../googledrive/data/meteorological.csv')\n",
    "\n",
    "selected_columns = ['tm', 'stnId', 'stnNm', 'ta', 'rn', 'ws', 'wd', 'hm', 'pa']            # 시간, 관측소 번호, 이름, 온도, 온도 신뢰도, 강수량, 풍속, 풍향, 습도, 기압, 짐표온도 추출\n",
    "\n",
    "filtered_df = meteorological_df[selected_columns]\n",
    "\n",
    "\n",
    "# 위도 경도 데이터 추가. 위도 latitude, 경도 longitude\n",
    "location_df = pd.read_csv('./location.csv')                                                                \n",
    "\n",
    "location_columns = ['지점번호', '위도', '경도']\n",
    "location_df = location_df[location_columns].rename(columns={'위도': 'latitude', '경도': 'longitude'})\n",
    "df = pd.merge(filtered_df, location_df, 'left', left_on='stnId', right_on='지점번호')\n",
    "\n",
    "df.drop(columns=['지점번호'], inplace=True)\n",
    "\n",
    "df.head()"
   ]
  },
  {
   "cell_type": "code",
   "execution_count": 13,
   "metadata": {},
   "outputs": [],
   "source": [
    "import pandas as pd\n",
    "import numpy as np\n",
    "\n",
    "wd_df = pd.read_csv('wd.csv')\n",
    "wd_values = wd_df['wd_values'].values\n",
    "\n",
    "wd_values = sorted(set(wd_values))\n",
    "wd_values = np.array(wd_values)\n",
    "\n",
    "def nearest(value):\n",
    "    if value in wd_values:\n",
    "        return value\n",
    "    else:\n",
    "        closest_value = wd_values[np.abs(wd_values - value).argmin()]\n",
    "        return closest_value\n",
    "\n",
    "\n",
    "df['wd_mapped'] = df['wd'].apply(nearest)\n",
    "df['wd_mapped'] = df['wd_mapped'].replace(360, 0)\n",
    "\n",
    "wd_values = wd_values[wd_values != 360]\n",
    "\n",
    "wd_columns = [f\"wd_{int(wd)}\" for wd in wd_values]\n",
    "for wd in wd_values:\n",
    "    column_name = f\"wd_{int(wd)}\"\n",
    "    df[column_name] = np.where(df['wd_mapped'] == wd, df['ws'], 0)\n",
    "\n",
    "\n"
   ]
  },
  {
   "cell_type": "code",
   "execution_count": 14,
   "metadata": {},
   "outputs": [],
   "source": [
    "# ta 결측치를 시간 순서대로 선형 보간\n",
    "df['ta'] = df['ta'].interpolate(method='linear', limit_direction='both')\n",
    "\n",
    "df['pa'] = df.groupby(df['tm'].str[:10])['pa'].transform('mean')  \n",
    "df['pa'] = df['pa'].ffill().bfill()  # 남은 결측치는 보간\n",
    "\n",
    "df['rn'] = df['rn'].fillna(0)  # 결측치를 0으로 채움\n",
    "\n",
    "df['hm'] = df['hm'].interpolate(method='linear', limit_direction='both')  # 선형 보간"
   ]
  },
  {
   "cell_type": "code",
   "execution_count": 15,
   "metadata": {},
   "outputs": [],
   "source": [
    "wd_columns = [f\"wd_{int(wd)}\" for wd in wd_values]\n",
    "\n",
    "for wd in wd_values:\n",
    "    column_name = f\"wd_{int(wd)}\"\n",
    "    df[column_name] = np.where(df['wd_mapped'] == wd, df['ws'], 0)\n",
    "\n",
    "df[wd_columns] = df[wd_columns].fillna(0)\n",
    "\n",
    "df.drop(columns=['ws', 'wd'], inplace=True)\n",
    "\n",
    "df['hour'] = pd.to_datetime(df['tm']).dt.hour\n",
    "df['day'] = pd.to_datetime(df['tm']).dt.day\n",
    "df['month'] = pd.to_datetime(df['tm']).dt.month\n",
    "df['weekday'] = pd.to_datetime(df['tm']).dt.weekday\n"
   ]
  },
  {
   "cell_type": "code",
   "execution_count": 16,
   "metadata": {},
   "outputs": [
    {
     "data": {
      "text/plain": [
       "tm           0\n",
       "stnId        0\n",
       "stnNm        0\n",
       "ta           0\n",
       "rn           0\n",
       "hm           0\n",
       "pa           0\n",
       "latitude     0\n",
       "longitude    0\n",
       "wd_mapped    0\n",
       "wd_0         0\n",
       "wd_20        0\n",
       "wd_50        0\n",
       "wd_70        0\n",
       "wd_90        0\n",
       "wd_110       0\n",
       "wd_140       0\n",
       "wd_160       0\n",
       "wd_180       0\n",
       "wd_200       0\n",
       "wd_230       0\n",
       "wd_250       0\n",
       "wd_270       0\n",
       "wd_290       0\n",
       "wd_320       0\n",
       "wd_340       0\n",
       "hour         0\n",
       "day          0\n",
       "month        0\n",
       "weekday      0\n",
       "dtype: int64"
      ]
     },
     "execution_count": 16,
     "metadata": {},
     "output_type": "execute_result"
    }
   ],
   "source": [
    "df.isna().sum()\n"
   ]
  },
  {
   "cell_type": "code",
   "execution_count": 17,
   "metadata": {},
   "outputs": [],
   "source": [
    "# 연속형 데이터와 타겟 변수 정의\n",
    "features = [\n",
    "    'latitude', 'longitude', 'rn', 'hm', 'pa',\n",
    "    'wd_0', 'wd_20', 'wd_50', 'wd_70', 'wd_90', 'wd_110',\n",
    "    'wd_140', 'wd_160', 'wd_180', 'wd_200', 'wd_230',\n",
    "    'wd_250', 'wd_270', 'wd_290', 'wd_320', 'wd_340',\n",
    "    'hour', 'day', 'month', 'weekday'\n",
    "]\n",
    "\n",
    "X_continuous = df[features].values.astype(np.float32)  # 연속형 데이터\n",
    "y = df['ta'].values.astype(np.float32)  # 타겟 변수\n",
    "\n",
    "# Label Encoding\n",
    "from sklearn.preprocessing import LabelEncoder\n",
    "stnId_encoder = LabelEncoder()\n",
    "df['stnId_encoded'] = stnId_encoder.fit_transform(df['stnId'])\n",
    "stnId_seq = df['stnId_encoded'].values.astype(np.int32)  # 임베딩 입력\n"
   ]
  },
  {
   "cell_type": "code",
   "execution_count": 18,
   "metadata": {},
   "outputs": [
    {
     "name": "stdout",
     "output_type": "stream",
     "text": [
      "X_seq shape: (3902376, 10, 25)\n",
      "stnId_seq shape: (3902376, 10)\n",
      "y_seq shape: (3902376,)\n"
     ]
    }
   ],
   "source": [
    "def create_sequences(X, stnId, y, seq_length):\n",
    "    X_seq, stnId_seq, y_seq = [], [], []\n",
    "    for i in range(len(X) - seq_length):\n",
    "        X_seq.append(X[i:i+seq_length])\n",
    "        stnId_seq.append(stnId[i:i+seq_length])\n",
    "        y_seq.append(y[i+seq_length])\n",
    "    return np.array(X_seq), np.array(stnId_seq), np.array(y_seq)\n",
    "\n",
    "\n",
    "seq_length = 10\n",
    "X_seq, stnId_seq, y_seq = create_sequences(X_continuous, stnId_seq, y, seq_length)\n",
    "\n",
    "print(f\"X_seq shape: {X_seq.shape}\")\n",
    "print(f\"stnId_seq shape: {stnId_seq.shape}\")\n",
    "print(f\"y_seq shape: {y_seq.shape}\")\n"
   ]
  },
  {
   "cell_type": "code",
   "execution_count": 19,
   "metadata": {},
   "outputs": [
    {
     "name": "stdout",
     "output_type": "stream",
     "text": [
      "Total samples: 3902376\n",
      "X_train shape: (3121900, 10, 25)\n",
      "stnId_train shape: (3121900, 10)\n",
      "y_train shape: (3121900,)\n",
      "X_val shape: (780476, 10, 25)\n",
      "stnId_val shape: (780476, 10)\n",
      "y_val shape: (780476,)\n"
     ]
    }
   ],
   "source": [
    "# 데이터 크기 확인\n",
    "print(f\"Total samples: {len(X_seq)}\")  # 전체 샘플 수\n",
    "\n",
    "# 훈련/검증 데이터 분리\n",
    "train_size = int(len(X_seq) * 0.8)  # 80%를 훈련 데이터로 사용\n",
    "X_train, X_val = X_seq[:train_size], X_seq[train_size:]\n",
    "stnId_train, stnId_val = stnId_seq[:train_size], stnId_seq[train_size:]\n",
    "y_train, y_val = y_seq[:train_size], y_seq[train_size:]\n",
    "\n",
    "# 크기 확인\n",
    "print(f\"X_train shape: {X_train.shape}\")\n",
    "print(f\"stnId_train shape: {stnId_train.shape}\")\n",
    "print(f\"y_train shape: {y_train.shape}\")\n",
    "print(f\"X_val shape: {X_val.shape}\")\n",
    "print(f\"stnId_val shape: {stnId_val.shape}\")\n",
    "print(f\"y_val shape: {y_val.shape}\")\n"
   ]
  },
  {
   "cell_type": "code",
   "execution_count": 20,
   "metadata": {},
   "outputs": [
    {
     "data": {
      "text/html": [
       "<pre style=\"white-space:pre;overflow-x:auto;line-height:normal;font-family:Menlo,'DejaVu Sans Mono',consolas,'Courier New',monospace\"><span style=\"font-weight: bold\">Model: \"functional_1\"</span>\n",
       "</pre>\n"
      ],
      "text/plain": [
       "\u001b[1mModel: \"functional_1\"\u001b[0m\n"
      ]
     },
     "metadata": {},
     "output_type": "display_data"
    },
    {
     "data": {
      "text/html": [
       "<pre style=\"white-space:pre;overflow-x:auto;line-height:normal;font-family:Menlo,'DejaVu Sans Mono',consolas,'Courier New',monospace\">┏━━━━━━━━━━━━━━━━━━━━━┳━━━━━━━━━━━━━━━━━━━┳━━━━━━━━━━━━┳━━━━━━━━━━━━━━━━━━━┓\n",
       "┃<span style=\"font-weight: bold\"> Layer (type)        </span>┃<span style=\"font-weight: bold\"> Output Shape      </span>┃<span style=\"font-weight: bold\">    Param # </span>┃<span style=\"font-weight: bold\"> Connected to      </span>┃\n",
       "┡━━━━━━━━━━━━━━━━━━━━━╇━━━━━━━━━━━━━━━━━━━╇━━━━━━━━━━━━╇━━━━━━━━━━━━━━━━━━━┩\n",
       "│ stnId_input         │ (<span style=\"color: #00d7ff; text-decoration-color: #00d7ff\">None</span>, <span style=\"color: #00af00; text-decoration-color: #00af00\">10</span>)        │          <span style=\"color: #00af00; text-decoration-color: #00af00\">0</span> │ -                 │\n",
       "│ (<span style=\"color: #0087ff; text-decoration-color: #0087ff\">InputLayer</span>)        │                   │            │                   │\n",
       "├─────────────────────┼───────────────────┼────────────┼───────────────────┤\n",
       "│ stnId_embedding     │ (<span style=\"color: #00d7ff; text-decoration-color: #00d7ff\">None</span>, <span style=\"color: #00af00; text-decoration-color: #00af00\">10</span>, <span style=\"color: #00af00; text-decoration-color: #00af00\">8</span>)     │        <span style=\"color: #00af00; text-decoration-color: #00af00\">760</span> │ stnId_input[<span style=\"color: #00af00; text-decoration-color: #00af00\">0</span>][<span style=\"color: #00af00; text-decoration-color: #00af00\">0</span>] │\n",
       "│ (<span style=\"color: #0087ff; text-decoration-color: #0087ff\">Embedding</span>)         │                   │            │                   │\n",
       "├─────────────────────┼───────────────────┼────────────┼───────────────────┤\n",
       "│ continuous_input    │ (<span style=\"color: #00d7ff; text-decoration-color: #00d7ff\">None</span>, <span style=\"color: #00af00; text-decoration-color: #00af00\">10</span>, <span style=\"color: #00af00; text-decoration-color: #00af00\">25</span>)    │          <span style=\"color: #00af00; text-decoration-color: #00af00\">0</span> │ -                 │\n",
       "│ (<span style=\"color: #0087ff; text-decoration-color: #0087ff\">InputLayer</span>)        │                   │            │                   │\n",
       "├─────────────────────┼───────────────────┼────────────┼───────────────────┤\n",
       "│ stnId_lstm (<span style=\"color: #0087ff; text-decoration-color: #0087ff\">LSTM</span>)   │ (<span style=\"color: #00d7ff; text-decoration-color: #00d7ff\">None</span>, <span style=\"color: #00af00; text-decoration-color: #00af00\">8</span>)         │        <span style=\"color: #00af00; text-decoration-color: #00af00\">544</span> │ stnId_embedding[<span style=\"color: #00af00; text-decoration-color: #00af00\">…</span> │\n",
       "├─────────────────────┼───────────────────┼────────────┼───────────────────┤\n",
       "│ continuous_lstm     │ (<span style=\"color: #00d7ff; text-decoration-color: #00d7ff\">None</span>, <span style=\"color: #00af00; text-decoration-color: #00af00\">64</span>)        │     <span style=\"color: #00af00; text-decoration-color: #00af00\">23,040</span> │ continuous_input… │\n",
       "│ (<span style=\"color: #0087ff; text-decoration-color: #0087ff\">LSTM</span>)              │                   │            │                   │\n",
       "├─────────────────────┼───────────────────┼────────────┼───────────────────┤\n",
       "│ concatenate_1       │ (<span style=\"color: #00d7ff; text-decoration-color: #00d7ff\">None</span>, <span style=\"color: #00af00; text-decoration-color: #00af00\">72</span>)        │          <span style=\"color: #00af00; text-decoration-color: #00af00\">0</span> │ stnId_lstm[<span style=\"color: #00af00; text-decoration-color: #00af00\">0</span>][<span style=\"color: #00af00; text-decoration-color: #00af00\">0</span>], │\n",
       "│ (<span style=\"color: #0087ff; text-decoration-color: #0087ff\">Concatenate</span>)       │                   │            │ continuous_lstm[<span style=\"color: #00af00; text-decoration-color: #00af00\">…</span> │\n",
       "├─────────────────────┼───────────────────┼────────────┼───────────────────┤\n",
       "│ dense_2 (<span style=\"color: #0087ff; text-decoration-color: #0087ff\">Dense</span>)     │ (<span style=\"color: #00d7ff; text-decoration-color: #00d7ff\">None</span>, <span style=\"color: #00af00; text-decoration-color: #00af00\">16</span>)        │      <span style=\"color: #00af00; text-decoration-color: #00af00\">1,168</span> │ concatenate_1[<span style=\"color: #00af00; text-decoration-color: #00af00\">0</span>]… │\n",
       "├─────────────────────┼───────────────────┼────────────┼───────────────────┤\n",
       "│ dense_3 (<span style=\"color: #0087ff; text-decoration-color: #0087ff\">Dense</span>)     │ (<span style=\"color: #00d7ff; text-decoration-color: #00d7ff\">None</span>, <span style=\"color: #00af00; text-decoration-color: #00af00\">1</span>)         │         <span style=\"color: #00af00; text-decoration-color: #00af00\">17</span> │ dense_2[<span style=\"color: #00af00; text-decoration-color: #00af00\">0</span>][<span style=\"color: #00af00; text-decoration-color: #00af00\">0</span>]     │\n",
       "└─────────────────────┴───────────────────┴────────────┴───────────────────┘\n",
       "</pre>\n"
      ],
      "text/plain": [
       "┏━━━━━━━━━━━━━━━━━━━━━┳━━━━━━━━━━━━━━━━━━━┳━━━━━━━━━━━━┳━━━━━━━━━━━━━━━━━━━┓\n",
       "┃\u001b[1m \u001b[0m\u001b[1mLayer (type)       \u001b[0m\u001b[1m \u001b[0m┃\u001b[1m \u001b[0m\u001b[1mOutput Shape     \u001b[0m\u001b[1m \u001b[0m┃\u001b[1m \u001b[0m\u001b[1m   Param #\u001b[0m\u001b[1m \u001b[0m┃\u001b[1m \u001b[0m\u001b[1mConnected to     \u001b[0m\u001b[1m \u001b[0m┃\n",
       "┡━━━━━━━━━━━━━━━━━━━━━╇━━━━━━━━━━━━━━━━━━━╇━━━━━━━━━━━━╇━━━━━━━━━━━━━━━━━━━┩\n",
       "│ stnId_input         │ (\u001b[38;5;45mNone\u001b[0m, \u001b[38;5;34m10\u001b[0m)        │          \u001b[38;5;34m0\u001b[0m │ -                 │\n",
       "│ (\u001b[38;5;33mInputLayer\u001b[0m)        │                   │            │                   │\n",
       "├─────────────────────┼───────────────────┼────────────┼───────────────────┤\n",
       "│ stnId_embedding     │ (\u001b[38;5;45mNone\u001b[0m, \u001b[38;5;34m10\u001b[0m, \u001b[38;5;34m8\u001b[0m)     │        \u001b[38;5;34m760\u001b[0m │ stnId_input[\u001b[38;5;34m0\u001b[0m][\u001b[38;5;34m0\u001b[0m] │\n",
       "│ (\u001b[38;5;33mEmbedding\u001b[0m)         │                   │            │                   │\n",
       "├─────────────────────┼───────────────────┼────────────┼───────────────────┤\n",
       "│ continuous_input    │ (\u001b[38;5;45mNone\u001b[0m, \u001b[38;5;34m10\u001b[0m, \u001b[38;5;34m25\u001b[0m)    │          \u001b[38;5;34m0\u001b[0m │ -                 │\n",
       "│ (\u001b[38;5;33mInputLayer\u001b[0m)        │                   │            │                   │\n",
       "├─────────────────────┼───────────────────┼────────────┼───────────────────┤\n",
       "│ stnId_lstm (\u001b[38;5;33mLSTM\u001b[0m)   │ (\u001b[38;5;45mNone\u001b[0m, \u001b[38;5;34m8\u001b[0m)         │        \u001b[38;5;34m544\u001b[0m │ stnId_embedding[\u001b[38;5;34m…\u001b[0m │\n",
       "├─────────────────────┼───────────────────┼────────────┼───────────────────┤\n",
       "│ continuous_lstm     │ (\u001b[38;5;45mNone\u001b[0m, \u001b[38;5;34m64\u001b[0m)        │     \u001b[38;5;34m23,040\u001b[0m │ continuous_input… │\n",
       "│ (\u001b[38;5;33mLSTM\u001b[0m)              │                   │            │                   │\n",
       "├─────────────────────┼───────────────────┼────────────┼───────────────────┤\n",
       "│ concatenate_1       │ (\u001b[38;5;45mNone\u001b[0m, \u001b[38;5;34m72\u001b[0m)        │          \u001b[38;5;34m0\u001b[0m │ stnId_lstm[\u001b[38;5;34m0\u001b[0m][\u001b[38;5;34m0\u001b[0m], │\n",
       "│ (\u001b[38;5;33mConcatenate\u001b[0m)       │                   │            │ continuous_lstm[\u001b[38;5;34m…\u001b[0m │\n",
       "├─────────────────────┼───────────────────┼────────────┼───────────────────┤\n",
       "│ dense_2 (\u001b[38;5;33mDense\u001b[0m)     │ (\u001b[38;5;45mNone\u001b[0m, \u001b[38;5;34m16\u001b[0m)        │      \u001b[38;5;34m1,168\u001b[0m │ concatenate_1[\u001b[38;5;34m0\u001b[0m]… │\n",
       "├─────────────────────┼───────────────────┼────────────┼───────────────────┤\n",
       "│ dense_3 (\u001b[38;5;33mDense\u001b[0m)     │ (\u001b[38;5;45mNone\u001b[0m, \u001b[38;5;34m1\u001b[0m)         │         \u001b[38;5;34m17\u001b[0m │ dense_2[\u001b[38;5;34m0\u001b[0m][\u001b[38;5;34m0\u001b[0m]     │\n",
       "└─────────────────────┴───────────────────┴────────────┴───────────────────┘\n"
      ]
     },
     "metadata": {},
     "output_type": "display_data"
    },
    {
     "data": {
      "text/html": [
       "<pre style=\"white-space:pre;overflow-x:auto;line-height:normal;font-family:Menlo,'DejaVu Sans Mono',consolas,'Courier New',monospace\"><span style=\"font-weight: bold\"> Total params: </span><span style=\"color: #00af00; text-decoration-color: #00af00\">25,529</span> (99.72 KB)\n",
       "</pre>\n"
      ],
      "text/plain": [
       "\u001b[1m Total params: \u001b[0m\u001b[38;5;34m25,529\u001b[0m (99.72 KB)\n"
      ]
     },
     "metadata": {},
     "output_type": "display_data"
    },
    {
     "data": {
      "text/html": [
       "<pre style=\"white-space:pre;overflow-x:auto;line-height:normal;font-family:Menlo,'DejaVu Sans Mono',consolas,'Courier New',monospace\"><span style=\"font-weight: bold\"> Trainable params: </span><span style=\"color: #00af00; text-decoration-color: #00af00\">25,529</span> (99.72 KB)\n",
       "</pre>\n"
      ],
      "text/plain": [
       "\u001b[1m Trainable params: \u001b[0m\u001b[38;5;34m25,529\u001b[0m (99.72 KB)\n"
      ]
     },
     "metadata": {},
     "output_type": "display_data"
    },
    {
     "data": {
      "text/html": [
       "<pre style=\"white-space:pre;overflow-x:auto;line-height:normal;font-family:Menlo,'DejaVu Sans Mono',consolas,'Courier New',monospace\"><span style=\"font-weight: bold\"> Non-trainable params: </span><span style=\"color: #00af00; text-decoration-color: #00af00\">0</span> (0.00 B)\n",
       "</pre>\n"
      ],
      "text/plain": [
       "\u001b[1m Non-trainable params: \u001b[0m\u001b[38;5;34m0\u001b[0m (0.00 B)\n"
      ]
     },
     "metadata": {},
     "output_type": "display_data"
    }
   ],
   "source": [
    "from tensorflow.keras.layers import Input, Embedding, LSTM, Dense, Dropout, concatenate\n",
    "from tensorflow.keras.models import Model\n",
    "\n",
    "stnId_input_layer = Input(shape=(seq_length,), name=\"stnId_input\")\n",
    "stnId_embedding = Embedding(input_dim=len(stnId_encoder.classes_), output_dim=8, name=\"stnId_embedding\")(stnId_input_layer)\n",
    "stnId_lstm = LSTM(8, name=\"stnId_lstm\")(stnId_embedding)\n",
    "\n",
    "continuous_input_layer = Input(shape=(seq_length, X_train.shape[2]), name=\"continuous_input\")\n",
    "lstm_out = LSTM(64, return_sequences=False, name=\"continuous_lstm\")(continuous_input_layer)\n",
    "\n",
    "concat = concatenate([stnId_lstm, lstm_out], axis=1)\n",
    "dense_out = Dense(16, activation='relu')(concat)\n",
    "output = Dense(1, activation='linear')(dense_out)\n",
    "\n",
    "model = Model(inputs=[stnId_input_layer, continuous_input_layer], outputs=output)\n",
    "model.compile(optimizer='adam', loss='mse', metrics=['mae'])\n",
    "model.summary()\n"
   ]
  },
  {
   "cell_type": "code",
   "execution_count": 21,
   "metadata": {},
   "outputs": [
    {
     "name": "stdout",
     "output_type": "stream",
     "text": [
      "Epoch 1/20\n",
      "\u001b[1m6098/6098\u001b[0m \u001b[32m━━━━━━━━━━━━━━━━━━━━\u001b[0m\u001b[37m\u001b[0m \u001b[1m114s\u001b[0m 18ms/step - loss: 19.7096 - mae: 3.3542 - val_loss: 20.7418 - val_mae: 3.5243\n",
      "Epoch 2/20\n",
      "\u001b[1m6098/6098\u001b[0m \u001b[32m━━━━━━━━━━━━━━━━━━━━\u001b[0m\u001b[37m\u001b[0m \u001b[1m113s\u001b[0m 19ms/step - loss: 15.1186 - mae: 2.9875 - val_loss: 23.5091 - val_mae: 3.7311\n",
      "Epoch 3/20\n",
      "\u001b[1m6098/6098\u001b[0m \u001b[32m━━━━━━━━━━━━━━━━━━━━\u001b[0m\u001b[37m\u001b[0m \u001b[1m109s\u001b[0m 18ms/step - loss: 13.8538 - mae: 2.8746 - val_loss: 20.4353 - val_mae: 3.4911\n",
      "Epoch 4/20\n",
      "\u001b[1m6098/6098\u001b[0m \u001b[32m━━━━━━━━━━━━━━━━━━━━\u001b[0m\u001b[37m\u001b[0m \u001b[1m109s\u001b[0m 18ms/step - loss: 13.4622 - mae: 2.8372 - val_loss: 22.8904 - val_mae: 3.6902\n",
      "Epoch 5/20\n",
      "\u001b[1m6098/6098\u001b[0m \u001b[32m━━━━━━━━━━━━━━━━━━━━\u001b[0m\u001b[37m\u001b[0m \u001b[1m107s\u001b[0m 18ms/step - loss: 13.2596 - mae: 2.8191 - val_loss: 27.1400 - val_mae: 4.0494\n",
      "Epoch 6/20\n",
      "\u001b[1m6098/6098\u001b[0m \u001b[32m━━━━━━━━━━━━━━━━━━━━\u001b[0m\u001b[37m\u001b[0m \u001b[1m112s\u001b[0m 18ms/step - loss: 13.1542 - mae: 2.8075 - val_loss: 27.2778 - val_mae: 4.0601\n",
      "Epoch 7/20\n",
      "\u001b[1m6098/6098\u001b[0m \u001b[32m━━━━━━━━━━━━━━━━━━━━\u001b[0m\u001b[37m\u001b[0m \u001b[1m106s\u001b[0m 17ms/step - loss: 12.9784 - mae: 2.7893 - val_loss: 24.9863 - val_mae: 3.8673\n",
      "Epoch 8/20\n",
      "\u001b[1m6098/6098\u001b[0m \u001b[32m━━━━━━━━━━━━━━━━━━━━\u001b[0m\u001b[37m\u001b[0m \u001b[1m106s\u001b[0m 17ms/step - loss: 12.8806 - mae: 2.7790 - val_loss: 27.8500 - val_mae: 4.1072\n",
      "Epoch 9/20\n",
      "\u001b[1m6098/6098\u001b[0m \u001b[32m━━━━━━━━━━━━━━━━━━━━\u001b[0m\u001b[37m\u001b[0m \u001b[1m109s\u001b[0m 18ms/step - loss: 12.8569 - mae: 2.7770 - val_loss: 28.1804 - val_mae: 4.1298\n",
      "Epoch 10/20\n",
      "\u001b[1m6098/6098\u001b[0m \u001b[32m━━━━━━━━━━━━━━━━━━━━\u001b[0m\u001b[37m\u001b[0m \u001b[1m106s\u001b[0m 17ms/step - loss: 12.7417 - mae: 2.7630 - val_loss: 24.0069 - val_mae: 3.7825\n",
      "Epoch 11/20\n",
      "\u001b[1m6098/6098\u001b[0m \u001b[32m━━━━━━━━━━━━━━━━━━━━\u001b[0m\u001b[37m\u001b[0m \u001b[1m107s\u001b[0m 18ms/step - loss: 12.7209 - mae: 2.7590 - val_loss: 24.5819 - val_mae: 3.8296\n",
      "Epoch 12/20\n",
      "\u001b[1m6098/6098\u001b[0m \u001b[32m━━━━━━━━━━━━━━━━━━━━\u001b[0m\u001b[37m\u001b[0m \u001b[1m109s\u001b[0m 18ms/step - loss: 12.6300 - mae: 2.7504 - val_loss: 24.4125 - val_mae: 3.8133\n",
      "Epoch 13/20\n",
      "\u001b[1m6098/6098\u001b[0m \u001b[32m━━━━━━━━━━━━━━━━━━━━\u001b[0m\u001b[37m\u001b[0m \u001b[1m111s\u001b[0m 18ms/step - loss: 12.6203 - mae: 2.7477 - val_loss: 26.5545 - val_mae: 3.9836\n",
      "Epoch 14/20\n",
      "\u001b[1m6098/6098\u001b[0m \u001b[32m━━━━━━━━━━━━━━━━━━━━\u001b[0m\u001b[37m\u001b[0m \u001b[1m107s\u001b[0m 17ms/step - loss: 12.5597 - mae: 2.7410 - val_loss: 29.9109 - val_mae: 4.2489\n",
      "Epoch 15/20\n",
      "\u001b[1m6098/6098\u001b[0m \u001b[32m━━━━━━━━━━━━━━━━━━━━\u001b[0m\u001b[37m\u001b[0m \u001b[1m108s\u001b[0m 18ms/step - loss: 12.5574 - mae: 2.7410 - val_loss: 28.3386 - val_mae: 4.1345\n",
      "Epoch 16/20\n",
      "\u001b[1m6098/6098\u001b[0m \u001b[32m━━━━━━━━━━━━━━━━━━━━\u001b[0m\u001b[37m\u001b[0m \u001b[1m107s\u001b[0m 17ms/step - loss: 12.5501 - mae: 2.7407 - val_loss: 32.4116 - val_mae: 4.4508\n",
      "Epoch 17/20\n",
      "\u001b[1m6098/6098\u001b[0m \u001b[32m━━━━━━━━━━━━━━━━━━━━\u001b[0m\u001b[37m\u001b[0m \u001b[1m107s\u001b[0m 17ms/step - loss: 12.5344 - mae: 2.7389 - val_loss: 33.0191 - val_mae: 4.4975\n",
      "Epoch 18/20\n",
      "\u001b[1m6098/6098\u001b[0m \u001b[32m━━━━━━━━━━━━━━━━━━━━\u001b[0m\u001b[37m\u001b[0m \u001b[1m107s\u001b[0m 18ms/step - loss: 12.5042 - mae: 2.7358 - val_loss: 26.6137 - val_mae: 3.9865\n",
      "Epoch 19/20\n",
      "\u001b[1m6098/6098\u001b[0m \u001b[32m━━━━━━━━━━━━━━━━━━━━\u001b[0m\u001b[37m\u001b[0m \u001b[1m107s\u001b[0m 17ms/step - loss: 12.4842 - mae: 2.7340 - val_loss: 28.4123 - val_mae: 4.1265\n",
      "Epoch 20/20\n",
      "\u001b[1m6098/6098\u001b[0m \u001b[32m━━━━━━━━━━━━━━━━━━━━\u001b[0m\u001b[37m\u001b[0m \u001b[1m106s\u001b[0m 17ms/step - loss: 12.4406 - mae: 2.7283 - val_loss: 39.0882 - val_mae: 4.9530\n"
     ]
    }
   ],
   "source": [
    "\n",
    "history = model.fit(\n",
    "    [stnId_train, X_train],  \n",
    "    y_train,                 \n",
    "    validation_data=([stnId_val, X_val], y_val), \n",
    "    epochs=20,\n",
    "    batch_size=512\n",
    ")\n"
   ]
  },
  {
   "cell_type": "code",
   "execution_count": 22,
   "metadata": {},
   "outputs": [
    {
     "data": {
      "image/png": "[encoded data removed]",
      "text/plain": [
       "<Figure size 1200x500 with 2 Axes>"
      ]
     },
     "metadata": {},
     "output_type": "display_data"
    }
   ],
   "source": [
    "import matplotlib.pyplot as plt\n",
    "\n",
    "def plot_training_history(history):\n",
    "    plt.figure(figsize=(12, 5))\n",
    "    \n",
    "    plt.subplot(1, 2, 1)\n",
    "    plt.plot(history.history['loss'], label='Training Loss')\n",
    "    plt.plot(history.history['val_loss'], label='Validation Loss')\n",
    "    plt.title('Loss Over Epochs')\n",
    "    plt.xlabel('Epochs')\n",
    "    plt.ylabel('Loss')\n",
    "    plt.legend()\n",
    "    \n",
    "    plt.subplot(1, 2, 2)\n",
    "    plt.plot(history.history['mae'], label='Training MAE')\n",
    "    plt.plot(history.history['val_mae'], label='Validation MAE')\n",
    "    plt.title('MAE Over Epochs')\n",
    "    plt.xlabel('Epochs')\n",
    "    plt.ylabel('Mean Absolute Error (MAE)')\n",
    "    plt.legend()\n",
    "    \n",
    "    plt.tight_layout()\n",
    "    plt.show()\n",
    "\n",
    "# 호출\n",
    "plot_training_history(history)\n"
   ]
  },
  {
   "cell_type": "code",
   "execution_count": null,
   "metadata": {},
   "outputs": [],
   "source": [
    "\n",
    "history = model.fit(\n",
    "    [stnId_train, X_train],  \n",
    "    y_train,                 \n",
    "    validation_data=([stnId_val, X_val], y_val), \n",
    "    epochs=20,\n",
    "    batch_size=512\n",
    ")\n"
   ]
  }
 ],
 "metadata": {
  "kernelspec": {
   "display_name": "cv",
   "language": "python",
   "name": "python3"
  },
  "language_info": {
   "codemirror_mode": {
    "name": "ipython",
    "version": 3
   },
   "file_extension": ".py",
   "mimetype": "text/x-python",
   "name": "python",
   "nbconvert_exporter": "python",
   "pygments_lexer": "ipython3",
   "version": "3.9.21"
  }
 },
 "nbformat": 4,
 "nbformat_minor": 2
}
