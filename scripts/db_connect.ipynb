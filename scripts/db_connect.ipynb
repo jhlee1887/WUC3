{
 "cells": [
  {
   "cell_type": "code",
   "execution_count": null,
   "metadata": {},
   "outputs": [],
   "source": [
    "import pandas as pd\n",
    "import pymysql\n",
    "\n",
    "# 데이터 읽기\n",
    "location_data = pd.read_csv('../data/location.csv')\n",
    "\n",
    "# MySQL 연결\n",
    "conn = pymysql.connect(host='localhost', user='root', password='1234', database='wuc3')\n",
    "cursor = conn.cursor()\n",
    "\n",
    "# locations 테이블에 데이터 삽입 (location_id를 제외)\n",
    "for _, row in location_data.iterrows():\n",
    "    cursor.execute(\n",
    "        \"INSERT INTO locations (name, latitude, longitude) VALUES (%s, %s, %s)\",\n",
    "        (row['(현)지점명'], row['위도'], row['경도'])\n",
    "    )\n",
    "\n",
    "conn.commit()\n",
    "conn.close()\n"
   ]
  },
  {
   "cell_type": "code",
   "execution_count": null,
   "metadata": {},
   "outputs": [],
   "source": []
  }
 ],
 "metadata": {
  "kernelspec": {
   "display_name": "py",
   "language": "python",
   "name": "python3"
  },
  "language_info": {
   "codemirror_mode": {
    "name": "ipython",
    "version": 3
   },
   "file_extension": ".py",
   "mimetype": "text/x-python",
   "name": "python",
   "nbconvert_exporter": "python",
   "pygments_lexer": "ipython3",
   "version": "3.10.15"
  }
 },
 "nbformat": 4,
 "nbformat_minor": 2
}
